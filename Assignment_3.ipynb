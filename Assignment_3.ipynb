{
 "cells": [
  {
   "cell_type": "markdown",
   "id": "03ac7649",
   "metadata": {},
   "source": [
    "1.Advantages of using functions in our programs are\n",
    " Reusability\n",
    " code organization\n",
    " Abstraction\n",
    " Debugging\n",
    " Testing\n",
    " Collaboration\n",
    " Scalability\n",
    " Readability\n",
    " Encapsulation\n",
    " Performance\n",
    " "
   ]
  },
  {
   "cell_type": "markdown",
   "id": "915b8cd1",
   "metadata": {},
   "source": [
    "2.The code within a function runs when the function is called, not when it's specified.\n",
    "\n",
    "Defining a function involves creating a named block of code with a specific set of instructions. However, these instructions are not executed until you call the function. When you call a function, the program flow jumps to the location where the function is defined, executes the code inside the function's block, and then returns to the point where the function was called."
   ]
  },
  {
   "cell_type": "markdown",
   "id": "d07dcdb8",
   "metadata": {},
   "source": [
    "3.In most programming languages, including Python, the def statement is used to create a function. The def keyword is followed by the function name, a pair of parentheses, and a colon. The code block indented beneath the def statement defines the body of the function."
   ]
  },
  {
   "cell_type": "markdown",
   "id": "4049359a",
   "metadata": {},
   "source": [
    "4.A function is a block of organized, reusable code that performs a specific task. It is defined using the def keyword in most programming languages. Functions encapsulate a set of instructions that can be executed whenever needed.\n",
    "\n"
   ]
  },
  {
   "cell_type": "code",
   "execution_count": 1,
   "id": "e460880d",
   "metadata": {},
   "outputs": [],
   "source": [
    "def add(a, b):\n",
    "    return a + b\n"
   ]
  },
  {
   "cell_type": "markdown",
   "id": "5496e434",
   "metadata": {},
   "source": [
    "A function call (also known as invoking or executing a function) is the act of using a defined function to perform its specified task. When you call a function, you provide the required arguments (if any), and the function executes the code within its body. Function calls are used to utilize the functionality provided by the function."
   ]
  },
  {
   "cell_type": "code",
   "execution_count": 2,
   "id": "b68196c8",
   "metadata": {},
   "outputs": [],
   "source": [
    "result = add(3, 5)  # Calling the add function with arguments 3 and 5\n"
   ]
  },
  {
   "cell_type": "markdown",
   "id": "a18d6996",
   "metadata": {},
   "source": [
    "5.Global Scope:\n",
    "The global scope is the top-level scope in a Python program. It's the outermost scope that encompasses the entire program, and variables defined in this scope are accessible throughout the program.\n",
    "\n",
    "Local Scopes:\n",
    "Each function defines its own local scope. When a function is called, a new local scope is created for that function's execution. Variables defined within a function's code block belong to its local scope and are only accessible within that function."
   ]
  },
  {
   "cell_type": "markdown",
   "id": "0efae89a",
   "metadata": {},
   "source": [
    "6.When a function call returns in Python, the local scope associated with that function is destroyed, and the variables within that local scope are deallocated or \"go out of scope\". This means that the variables defined within the function are no longer accessible or valid after the function call has finished executing."
   ]
  },
  {
   "cell_type": "code",
   "execution_count": 3,
   "id": "7b48d230",
   "metadata": {},
   "outputs": [
    {
     "name": "stdout",
     "output_type": "stream",
     "text": [
      "10\n"
     ]
    },
    {
     "ename": "NameError",
     "evalue": "name 'x' is not defined",
     "output_type": "error",
     "traceback": [
      "\u001b[1;31m---------------------------------------------------------------------------\u001b[0m",
      "\u001b[1;31mNameError\u001b[0m                                 Traceback (most recent call last)",
      "Cell \u001b[1;32mIn[3], line 6\u001b[0m\n\u001b[0;32m      3\u001b[0m     \u001b[38;5;28mprint\u001b[39m(x)  \u001b[38;5;66;03m# This works within the function's local scope\u001b[39;00m\n\u001b[0;32m      5\u001b[0m my_function()  \u001b[38;5;66;03m# Calling the function\u001b[39;00m\n\u001b[1;32m----> 6\u001b[0m \u001b[38;5;28mprint\u001b[39m(\u001b[43mx\u001b[49m)\n",
      "\u001b[1;31mNameError\u001b[0m: name 'x' is not defined"
     ]
    }
   ],
   "source": [
    "def my_function():\n",
    "    x = 10\n",
    "    print(x)  # This works within the function's local scope\n",
    "\n",
    "my_function()  # Calling the function\n",
    "print(x)      # This will raise a NameError since x is not defined in the current scope\n"
   ]
  },
  {
   "cell_type": "markdown",
   "id": "dd9a82d9",
   "metadata": {},
   "source": [
    "7.When a function is executed, it might perform certain operations and calculations, and then it can provide a result in the form of a return value. This return value can be used by the calling code for further processing, manipulation, or decision-making.\n",
    "The concept of a return value is essential for functions to communicate their outcomes to the rest of the program. It allows functions to encapsulate specific logic or computations and then provide the results to other parts of the code that need them."
   ]
  },
  {
   "cell_type": "code",
   "execution_count": 4,
   "id": "f1e115cb",
   "metadata": {},
   "outputs": [
    {
     "name": "stdout",
     "output_type": "stream",
     "text": [
      "8\n",
      "10\n"
     ]
    }
   ],
   "source": [
    "def add(a, b):\n",
    "    return a + b\n",
    "\n",
    "result = add(5, 3)  # The result of the add function call is assigned to the 'result' variable\n",
    "print(result)      \n",
    "\n",
    "total = add(2, 4) + add(1, 3)  # The return values of two add function calls are used in an expression\n",
    "print(total)                   "
   ]
  },
  {
   "cell_type": "markdown",
   "id": "4533bc68",
   "metadata": {},
   "source": [
    "8.If a function does not have a return statement, it implicitly returns a special value called None.\n",
    "When you call a function that lacks a return statement, the function execution completes, and the return value is automatically set to None."
   ]
  },
  {
   "cell_type": "code",
   "execution_count": 6,
   "id": "cd378738",
   "metadata": {},
   "outputs": [
    {
     "name": "stdout",
     "output_type": "stream",
     "text": [
      "10\n",
      "20\n"
     ]
    }
   ],
   "source": [
    "#9\n",
    "global_var = 10\n",
    "\n",
    "def modify_global():\n",
    "    global global_var\n",
    "    global_var = 20\n",
    "\n",
    "print(global_var)  \n",
    "modify_global()\n",
    "print(global_var)  "
   ]
  },
  {
   "cell_type": "markdown",
   "id": "07279ae8",
   "metadata": {},
   "source": [
    "In this example, the modify_global function uses the global keyword to indicate that the variable global_var is the global variable, not a local one. When you call modify_global(), it modifies the global variable global_var from within the function."
   ]
  },
  {
   "cell_type": "markdown",
   "id": "b37ece60",
   "metadata": {},
   "source": [
    "10.In Python, None is a special constant representing the absence of a value or a null value. It is often used to indicate that a variable or expression does not have a meaningful value or result. None is its own data type, which is commonly referred to as the \"NoneType.\""
   ]
  },
  {
   "cell_type": "markdown",
   "id": "e9df30ba",
   "metadata": {},
   "source": [
    "11.an import statement like the one you provided would typically result in a ModuleNotFoundError because Python would not be able to find a module named \"areallyourpetsnamederic.\""
   ]
  },
  {
   "cell_type": "markdown",
   "id": "471a3ff2",
   "metadata": {},
   "source": [
    "12.import spam\n",
    "\n",
    "spam.bacon()\n"
   ]
  },
  {
   "cell_type": "markdown",
   "id": "94b8afa6",
   "metadata": {},
   "source": [
    "13.To prevent a program from crashing when encountering an error, you can implement error handling techniques\n",
    "\n",
    "Try-Except Blocks: Use try and except blocks to catch and handle exceptions. Place the code that might raise an exception inside the try block, and provide appropriate code to handle the exception in the except block.\n",
    "\n",
    "Specific Exception Handling: You can catch specific types of exceptions and handle them differently.\n",
    "\n",
    "Finally Block: You can use the finally block to include code that should run regardless of whether an exception was raised or not."
   ]
  },
  {
   "cell_type": "markdown",
   "id": "66577c06",
   "metadata": {},
   "source": [
    "14.Purpose of the try Clause:\n",
    "The try clause is used to enclose the portion of code that you suspect might raise an exception. When an exception occurs within the try block, Python immediately stops executing the regular flow of the program and switches to the except block.\n",
    "\n",
    "Purpose of the except Clause:\n",
    "The except clause is used to specify the type of exception that you want to catch and handle. When an exception of the specified type (or its subclasses) occurs within the try block, the code inside the corresponding except block is executed. The purpose of the except block is to provide a way to gracefully handle errors and continue the program's execution rather than crashing."
   ]
  },
  {
   "cell_type": "code",
   "execution_count": 7,
   "id": "2f8181e8",
   "metadata": {},
   "outputs": [
    {
     "name": "stdout",
     "output_type": "stream",
     "text": [
      "Error: Division by zero occurred\n"
     ]
    }
   ],
   "source": [
    "try:\n",
    "    x = 10 / 0  # This will raise a ZeroDivisionError\n",
    "except ZeroDivisionError:\n",
    "    print(\"Error: Division by zero occurred\")\n"
   ]
  },
  {
   "cell_type": "code",
   "execution_count": null,
   "id": "7f05176c",
   "metadata": {},
   "outputs": [],
   "source": []
  }
 ],
 "metadata": {
  "kernelspec": {
   "display_name": "Python 3 (ipykernel)",
   "language": "python",
   "name": "python3"
  },
  "language_info": {
   "codemirror_mode": {
    "name": "ipython",
    "version": 3
   },
   "file_extension": ".py",
   "mimetype": "text/x-python",
   "name": "python",
   "nbconvert_exporter": "python",
   "pygments_lexer": "ipython3",
   "version": "3.10.9"
  }
 },
 "nbformat": 4,
 "nbformat_minor": 5
}
